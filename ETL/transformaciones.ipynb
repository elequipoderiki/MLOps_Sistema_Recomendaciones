{
 "cells": [
  {
   "cell_type": "markdown",
   "metadata": {},
   "source": [
    "#### Aplicamos algunas transformaciones a los datos de cada plataforma de manera que los datos sean consistentes a la hora de generar con ellos un modelo de aprendizaje \n"
   ]
  },
  {
   "cell_type": "code",
   "execution_count": 1,
   "metadata": {},
   "outputs": [],
   "source": [
    "import pandas as pd\n",
    "\n",
    "import numpy as np\n",
    "\n",
    "#funcion para obtener los datasets de google drive\n",
    "from  raw_data.conexiones_lake import obtener_datos_plataforma"
   ]
  },
  {
   "cell_type": "markdown",
   "metadata": {},
   "source": [
    "Generamos campo id con prefijo dado por nombre de plataforma"
   ]
  },
  {
   "cell_type": "code",
   "execution_count": 2,
   "metadata": {},
   "outputs": [],
   "source": [
    "def generar_id(prefijo,df):\n",
    "  \"\"\"\n",
    "  Concatena el valor de prefijo a la columna show_id del df.\n",
    "\n",
    "  Parameters\n",
    "  ---------\n",
    "  prefijo: str\n",
    "    letra que se añade al inicio de cada valor del campo show_id\n",
    "  df: object\n",
    "    dataframe con la columna show_id\n",
    "  \"\"\"\n",
    "\n",
    "  df[\"id\"] = prefijo+df['show_id']  \n",
    "  \n",
    "  # eliminamos columna show_id pues no es necesaria con el nuevo id\n",
    "  df.drop(columns='show_id',index=1,inplace=True)"
   ]
  },
  {
   "cell_type": "markdown",
   "metadata": {},
   "source": [
    "Reemplazamos valores nulos de rating"
   ]
  },
  {
   "cell_type": "code",
   "execution_count": 3,
   "metadata": {},
   "outputs": [],
   "source": [
    "def completar_rating(df):\n",
    "  \"\"\"\n",
    "  Completa los nulos del campo rating con letra G.\n",
    "\n",
    "  Parameters\n",
    "  ---------\n",
    "   df: object\n",
    "    dataframe con la columna rating\n",
    "  \"\"\"\n",
    "\n",
    "  df['rating'].fillna('G',inplace=True)"
   ]
  },
  {
   "cell_type": "markdown",
   "metadata": {},
   "source": [
    "Formateamos fechas"
   ]
  },
  {
   "cell_type": "code",
   "execution_count": 4,
   "metadata": {},
   "outputs": [],
   "source": [
    "def formatear_fecha(df):\n",
    "  \"\"\"\n",
    "  Formatea fechas a formato AAA-mm-dd del df.\n",
    "\n",
    "  Parameters\n",
    "  ----------\n",
    "  df: object\n",
    "    dataframe con la columna que represente fechas\n",
    "  \"\"\"\n",
    "\n",
    "  df['date_added'] = pd.to_datetime(df.date_added)"
   ]
  },
  {
   "cell_type": "markdown",
   "metadata": {},
   "source": [
    "Campos de texto a minusculas"
   ]
  },
  {
   "cell_type": "code",
   "execution_count": 5,
   "metadata": {},
   "outputs": [],
   "source": [
    "def texto_en_minuscula(df):\n",
    "  \"\"\"\n",
    "  Convierte todos los campos del df de texto en minúsculas.\n",
    "\n",
    "  Parameters\n",
    "  ---------\n",
    "  df: object\n",
    "    dataframe con columnas de texto\n",
    "  \"\"\"\n",
    "\n",
    "  # seleccionamos las columnas de texto\n",
    "  columns = np.array( df.columns)\n",
    "\n",
    "  # excluimos las de fechas\n",
    "  columns = [column for column in columns if column != 'date_added' and column != 'release_year']\n",
    "  \n",
    "  #solo las seleccionadas van a lowercase\n",
    "  df[columns] = df[columns].apply(lambda val: val if not np.all(pd.notna(val)) else  val.str.lower())  "
   ]
  },
  {
   "cell_type": "markdown",
   "metadata": {},
   "source": [
    "Separamos campo duration en duration_int y duration_type"
   ]
  },
  {
   "cell_type": "code",
   "execution_count": 6,
   "metadata": {},
   "outputs": [],
   "source": [
    "def obtener_valor_tipo(item,posicion):\n",
    "   \n",
    "  if isinstance(item,str):\n",
    "  \n",
    "    if ' ' in item:\n",
    "  \n",
    "      num = item.split()[posicion]            \n",
    "  \n",
    "      return num.strip()\n",
    "  \n",
    "  return item    "
   ]
  },
  {
   "cell_type": "code",
   "execution_count": 19,
   "metadata": {},
   "outputs": [],
   "source": [
    "def separar_duration(df):\n",
    "  \"\"\"\n",
    "  Separa el campo duration en parte entera y tipo de duración\n",
    "\n",
    "  Parameters\n",
    "  ---------\n",
    "  df: object\n",
    "    dataframe con columna duration\n",
    "  \"\"\"\n",
    "\n",
    "  df['duration_int'] = df['duration'].apply(obtener_valor_tipo,args=(0,))\n",
    "\n",
    "  df['duration_int'] = df['duration_int'].astype('float')\n",
    " \n",
    "  df['duration_int'] = df['duration_int'].astype('Int64')\n",
    " \n",
    "  df['duration_type'] = df['duration'].apply(obtener_valor_tipo,args=(1,))\n",
    "\n",
    "  # eliminamos columna duration que ha sido separada y no es necesaria\n",
    "  df.drop(columns='duration', axis=1, inplace=True, errors='ignore')"
   ]
  },
  {
   "attachments": {},
   "cell_type": "markdown",
   "metadata": {},
   "source": [
    "Agrupamos las funciones en una sola"
   ]
  },
  {
   "cell_type": "code",
   "execution_count": 8,
   "metadata": {},
   "outputs": [],
   "source": [
    "def transformar(prefijo,df):\n",
    "  \"\"\"\n",
    "  Aplica transformaciones al df\n",
    "\n",
    "  Parameters\n",
    "  ---------\n",
    "  df: object\n",
    "    dataframe a transformar\n",
    "  prefijo: str\n",
    "    letra que se añade al inicio de cada valor del campo show_id\n",
    "  \"\"\"\n",
    "\n",
    "  generar_id(prefijo, df)\n",
    "\n",
    "  completar_rating(df)    \n",
    "\n",
    "  formatear_fecha(df)\n",
    "\n",
    "  texto_en_minuscula(df)\n",
    "\n",
    "  separar_duration(df)\n",
    "\n",
    "  # reordenamos las columnas para que id este primer \n",
    "  columns = np.array(df.columns)\n",
    "\n",
    "  columns = [column for column in columns if column != 'id']\n",
    "\n",
    "  df = df[['id']+columns]\n",
    "\n",
    "  return df"
   ]
  },
  {
   "attachments": {},
   "cell_type": "markdown",
   "metadata": {},
   "source": [
    "Transformamos los datasets"
   ]
  },
  {
   "cell_type": "code",
   "execution_count": 20,
   "metadata": {},
   "outputs": [],
   "source": [
    "# la funcion obtener_datos_plataforma obtiene los datos crudos de google drive\n",
    "df = obtener_datos_plataforma('amazon')"
   ]
  },
  {
   "cell_type": "code",
   "execution_count": 21,
   "metadata": {},
   "outputs": [],
   "source": [
    "amazon_df = transformar('a',df)"
   ]
  },
  {
   "cell_type": "code",
   "execution_count": 22,
   "metadata": {},
   "outputs": [],
   "source": [
    "df2 = obtener_datos_plataforma('disney')"
   ]
  },
  {
   "cell_type": "code",
   "execution_count": 23,
   "metadata": {},
   "outputs": [],
   "source": [
    "disney_df = transformar('d',df2)"
   ]
  },
  {
   "cell_type": "code",
   "execution_count": 24,
   "metadata": {},
   "outputs": [],
   "source": [
    "df3 = obtener_datos_plataforma('hulu')"
   ]
  },
  {
   "cell_type": "code",
   "execution_count": 25,
   "metadata": {},
   "outputs": [],
   "source": [
    "hulu_df = transformar('h',df3)"
   ]
  },
  {
   "cell_type": "code",
   "execution_count": 26,
   "metadata": {},
   "outputs": [],
   "source": [
    "df4 = obtener_datos_plataforma('netflix')"
   ]
  },
  {
   "cell_type": "code",
   "execution_count": 27,
   "metadata": {},
   "outputs": [],
   "source": [
    "netflix_df = transformar('n',df4)"
   ]
  },
  {
   "attachments": {},
   "cell_type": "markdown",
   "metadata": {},
   "source": [
    "Exportamos las transformaciones"
   ]
  },
  {
   "cell_type": "code",
   "execution_count": 28,
   "metadata": {},
   "outputs": [],
   "source": [
    "amazon_df.to_csv('../transformaciones/amazon.csv',index=False)"
   ]
  },
  {
   "cell_type": "code",
   "execution_count": 29,
   "metadata": {},
   "outputs": [],
   "source": [
    "disney_df.to_csv('../transformaciones/disney.csv',index=False)"
   ]
  },
  {
   "cell_type": "code",
   "execution_count": 30,
   "metadata": {},
   "outputs": [],
   "source": [
    "hulu_df.to_csv('../transformaciones/hulu.csv',index=False)"
   ]
  },
  {
   "cell_type": "code",
   "execution_count": 31,
   "metadata": {},
   "outputs": [],
   "source": [
    "netflix_df.to_csv('../transformaciones/netflix.csv',index=False)"
   ]
  }
 ],
 "metadata": {
  "kernelspec": {
   "display_name": "Python 3.10.6 64-bit",
   "language": "python",
   "name": "python3"
  },
  "language_info": {
   "codemirror_mode": {
    "name": "ipython",
    "version": 3
   },
   "file_extension": ".py",
   "mimetype": "text/x-python",
   "name": "python",
   "nbconvert_exporter": "python",
   "pygments_lexer": "ipython3",
   "version": "3.10.6"
  },
  "orig_nbformat": 4,
  "vscode": {
   "interpreter": {
    "hash": "31f2aee4e71d21fbe5cf8b01ff0e069b9275f58929596ceb00d14d90e3e16cd6"
   }
  }
 },
 "nbformat": 4,
 "nbformat_minor": 2
}
