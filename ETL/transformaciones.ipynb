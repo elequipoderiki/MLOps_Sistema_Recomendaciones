{
 "cells": [
  {
   "cell_type": "markdown",
   "metadata": {},
   "source": [
    "#### Aplicamos algunas transformaciones a los datos de cada plataforma de manera que los datos sean consistentes a la hora de generar con ellos un modelo de aprendizaje \n"
   ]
  },
  {
   "cell_type": "code",
   "execution_count": 1,
   "metadata": {},
   "outputs": [],
   "source": [
    "import pandas as pd\n",
    "\n",
    "import numpy as np\n",
    "\n",
    "#funcion para obtener los datasets de google drive\n",
    "from  raw_data.conexiones_lake import obtener_datos_plataforma"
   ]
  },
  {
   "attachments": {},
   "cell_type": "markdown",
   "metadata": {},
   "source": [
    "Dataset amazon"
   ]
  },
  {
   "attachments": {},
   "cell_type": "markdown",
   "metadata": {},
   "source": [
    "La funcion obtener_datos_plataforma obtiene los datos crudos de google drive\n"
   ]
  },
  {
   "cell_type": "code",
   "execution_count": 119,
   "metadata": {},
   "outputs": [],
   "source": [
    "amazon = obtener_datos_plataforma('amazon')"
   ]
  },
  {
   "cell_type": "code",
   "execution_count": 92,
   "metadata": {},
   "outputs": [
    {
     "name": "stdout",
     "output_type": "stream",
     "text": [
      "<class 'pandas.core.frame.DataFrame'>\n",
      "RangeIndex: 9668 entries, 0 to 9667\n",
      "Data columns (total 12 columns):\n",
      " #   Column        Non-Null Count  Dtype \n",
      "---  ------        --------------  ----- \n",
      " 0   show_id       9668 non-null   object\n",
      " 1   type          9668 non-null   object\n",
      " 2   title         9668 non-null   object\n",
      " 3   director      7586 non-null   object\n",
      " 4   cast          8435 non-null   object\n",
      " 5   country       672 non-null    object\n",
      " 6   date_added    155 non-null    object\n",
      " 7   release_year  9668 non-null   int64 \n",
      " 8   rating        9331 non-null   object\n",
      " 9   duration      9668 non-null   object\n",
      " 10  listed_in     9668 non-null   object\n",
      " 11  description   9668 non-null   object\n",
      "dtypes: int64(1), object(11)\n",
      "memory usage: 906.5+ KB\n"
     ]
    }
   ],
   "source": [
    "amazon.info()"
   ]
  },
  {
   "cell_type": "markdown",
   "metadata": {},
   "source": [
    "country y date_added presentan muchos valores nulos, son candidatos a eliminarse pues date_added tiene alrededor del 1% de datos no nulos y country alrededor del 6% completos"
   ]
  },
  {
   "cell_type": "markdown",
   "metadata": {},
   "source": [
    "Los incompletos de director y cast son campos inapropiados para imputación, pues una película es puro arte y su identidad está definida fuertemente por el valor de estos campos. Optamos por ignorar los nulos por el momento."
   ]
  },
  {
   "cell_type": "code",
   "execution_count": 120,
   "metadata": {},
   "outputs": [],
   "source": [
    "amazon.drop(['date_added','country'],axis=1,inplace=True,errors='ignore')"
   ]
  },
  {
   "attachments": {},
   "cell_type": "markdown",
   "metadata": {},
   "source": [
    "veamos los tipos de duración"
   ]
  },
  {
   "cell_type": "code",
   "execution_count": 114,
   "metadata": {},
   "outputs": [],
   "source": [
    "dur = amazon.duration.dropna().apply(lambda x : x.split(' ')[1])"
   ]
  },
  {
   "cell_type": "code",
   "execution_count": 103,
   "metadata": {},
   "outputs": [
    {
     "data": {
      "text/plain": [
       "array(['min', 'Season', 'Seasons'], dtype=object)"
      ]
     },
     "execution_count": 103,
     "metadata": {},
     "output_type": "execute_result"
    }
   ],
   "source": [
    "dur.unique()"
   ]
  },
  {
   "attachments": {},
   "cell_type": "markdown",
   "metadata": {},
   "source": [
    "A la hora de separar tipo de duración elegimos dominio: min y season, por lo tanto seasons debe ser convertido a season "
   ]
  },
  {
   "attachments": {},
   "cell_type": "markdown",
   "metadata": {},
   "source": [
    "Dataset disney"
   ]
  },
  {
   "cell_type": "code",
   "execution_count": 123,
   "metadata": {},
   "outputs": [],
   "source": [
    "disney = obtener_datos_plataforma('disney')"
   ]
  },
  {
   "cell_type": "code",
   "execution_count": 105,
   "metadata": {},
   "outputs": [
    {
     "name": "stdout",
     "output_type": "stream",
     "text": [
      "<class 'pandas.core.frame.DataFrame'>\n",
      "RangeIndex: 1450 entries, 0 to 1449\n",
      "Data columns (total 12 columns):\n",
      " #   Column        Non-Null Count  Dtype \n",
      "---  ------        --------------  ----- \n",
      " 0   show_id       1450 non-null   object\n",
      " 1   type          1450 non-null   object\n",
      " 2   title         1450 non-null   object\n",
      " 3   director      977 non-null    object\n",
      " 4   cast          1260 non-null   object\n",
      " 5   country       1231 non-null   object\n",
      " 6   date_added    1447 non-null   object\n",
      " 7   release_year  1450 non-null   int64 \n",
      " 8   rating        1447 non-null   object\n",
      " 9   duration      1450 non-null   object\n",
      " 10  listed_in     1450 non-null   object\n",
      " 11  description   1450 non-null   object\n",
      "dtypes: int64(1), object(11)\n",
      "memory usage: 136.1+ KB\n"
     ]
    }
   ],
   "source": [
    "disney.info()"
   ]
  },
  {
   "attachments": {},
   "cell_type": "markdown",
   "metadata": {},
   "source": [
    "En este caso los nulos de campo director son menor al 25%, mantendremos ese campo"
   ]
  },
  {
   "attachments": {},
   "cell_type": "markdown",
   "metadata": {},
   "source": [
    "Dataset hulu"
   ]
  },
  {
   "cell_type": "code",
   "execution_count": 106,
   "metadata": {},
   "outputs": [],
   "source": [
    "hulu = obtener_datos_plataforma('hulu')"
   ]
  },
  {
   "cell_type": "code",
   "execution_count": 107,
   "metadata": {},
   "outputs": [
    {
     "name": "stdout",
     "output_type": "stream",
     "text": [
      "<class 'pandas.core.frame.DataFrame'>\n",
      "RangeIndex: 3073 entries, 0 to 3072\n",
      "Data columns (total 12 columns):\n",
      " #   Column        Non-Null Count  Dtype  \n",
      "---  ------        --------------  -----  \n",
      " 0   show_id       3073 non-null   object \n",
      " 1   type          3073 non-null   object \n",
      " 2   title         3073 non-null   object \n",
      " 3   director      3 non-null      object \n",
      " 4   cast          0 non-null      float64\n",
      " 5   country       1620 non-null   object \n",
      " 6   date_added    3045 non-null   object \n",
      " 7   release_year  3073 non-null   int64  \n",
      " 8   rating        2553 non-null   object \n",
      " 9   duration      2594 non-null   object \n",
      " 10  listed_in     3073 non-null   object \n",
      " 11  description   3069 non-null   object \n",
      "dtypes: float64(1), int64(1), object(10)\n",
      "memory usage: 288.2+ KB\n"
     ]
    }
   ],
   "source": [
    "hulu.info()"
   ]
  },
  {
   "attachments": {},
   "cell_type": "markdown",
   "metadata": {},
   "source": [
    "cast y director presentan muchos valores nulos, son candidatos a eliminarse pues date_added tiene alrededor del 1% de datos no nulos y country alrededor del 6% completos"
   ]
  },
  {
   "cell_type": "code",
   "execution_count": 108,
   "metadata": {},
   "outputs": [],
   "source": [
    "hulu.drop(['cast','director'],axis=1,inplace=True,errors='ignore')"
   ]
  },
  {
   "attachments": {},
   "cell_type": "markdown",
   "metadata": {},
   "source": [
    "Dataset netflix"
   ]
  },
  {
   "cell_type": "code",
   "execution_count": 109,
   "metadata": {},
   "outputs": [],
   "source": [
    "netflix = obtener_datos_plataforma('netflix')"
   ]
  },
  {
   "cell_type": "code",
   "execution_count": 110,
   "metadata": {},
   "outputs": [
    {
     "name": "stdout",
     "output_type": "stream",
     "text": [
      "<class 'pandas.core.frame.DataFrame'>\n",
      "RangeIndex: 8807 entries, 0 to 8806\n",
      "Data columns (total 12 columns):\n",
      " #   Column        Non-Null Count  Dtype \n",
      "---  ------        --------------  ----- \n",
      " 0   show_id       8807 non-null   object\n",
      " 1   type          8807 non-null   object\n",
      " 2   title         8807 non-null   object\n",
      " 3   director      6173 non-null   object\n",
      " 4   cast          7982 non-null   object\n",
      " 5   country       7976 non-null   object\n",
      " 6   date_added    8797 non-null   object\n",
      " 7   release_year  8807 non-null   int64 \n",
      " 8   rating        8803 non-null   object\n",
      " 9   duration      8804 non-null   object\n",
      " 10  listed_in     8807 non-null   object\n",
      " 11  description   8807 non-null   object\n",
      "dtypes: int64(1), object(11)\n",
      "memory usage: 825.8+ KB\n"
     ]
    }
   ],
   "source": [
    "netflix.info()"
   ]
  },
  {
   "attachments": {},
   "cell_type": "markdown",
   "metadata": {},
   "source": [
    "El porcentaje de nulos es poco, se conservan esas columnas para posible imputación"
   ]
  },
  {
   "cell_type": "markdown",
   "metadata": {},
   "source": [
    "Generamos campo id con prefijo dado por nombre de plataforma"
   ]
  },
  {
   "cell_type": "code",
   "execution_count": 2,
   "metadata": {},
   "outputs": [],
   "source": [
    "def generar_id(prefijo,df):\n",
    "  \"\"\"\n",
    "  Concatena el valor de prefijo a la columna show_id del df.\n",
    "\n",
    "  Parameters\n",
    "  ---------\n",
    "  prefijo: str\n",
    "    letra que se añade al inicio de cada valor del campo show_id\n",
    "  df: object\n",
    "    dataframe con la columna show_id\n",
    "  \"\"\"\n",
    "\n",
    "  df[\"id\"] = prefijo+df['show_id']  \n",
    "  \n",
    "  # eliminamos columna show_id pues no es necesaria con el nuevo id\n",
    "  df.drop(columns='show_id',index=1,inplace=True)"
   ]
  },
  {
   "cell_type": "markdown",
   "metadata": {},
   "source": [
    "Reemplazamos valores nulos de rating"
   ]
  },
  {
   "cell_type": "code",
   "execution_count": 3,
   "metadata": {},
   "outputs": [],
   "source": [
    "def completar_rating(df):\n",
    "  \"\"\"\n",
    "  Completa los nulos del campo rating con letra G.\n",
    "\n",
    "  Parameters\n",
    "  ---------\n",
    "   df: object\n",
    "    dataframe con la columna rating\n",
    "  \"\"\"\n",
    "\n",
    "  df['rating'].fillna('G',inplace=True)"
   ]
  },
  {
   "cell_type": "markdown",
   "metadata": {},
   "source": [
    "Formateamos fechas"
   ]
  },
  {
   "cell_type": "code",
   "execution_count": 117,
   "metadata": {},
   "outputs": [],
   "source": [
    "def formatear_fecha(df):\n",
    "  \"\"\"\n",
    "  Formatea fechas a formato AAA-mm-dd del df.\n",
    "\n",
    "  Parameters\n",
    "  ----------\n",
    "  df: object\n",
    "    dataframe con la columna que represente fechas\n",
    "  \"\"\"\n",
    "  if 'date_added' in df.columns.values:\n",
    "    df['date_added'] = pd.to_datetime(df.date_added)"
   ]
  },
  {
   "cell_type": "markdown",
   "metadata": {},
   "source": [
    "Campos de texto a minusculas"
   ]
  },
  {
   "cell_type": "code",
   "execution_count": 51,
   "metadata": {},
   "outputs": [],
   "source": [
    "def texto_en_minuscula(df):\n",
    "  \"\"\"\n",
    "  Convierte todos los campos del df de texto en minúsculas.\n",
    "\n",
    "  Parameters\n",
    "  ---------\n",
    "  df: object\n",
    "    dataframe con columnas de texto\n",
    "  \"\"\"\n",
    "\n",
    "  # seleccionamos las columnas de texto\n",
    "  columns = np.array( df.columns)\n",
    "\n",
    "  # excluimos las de fechas\n",
    "  columns = [column for column in columns if column != 'date_added' and column != 'release_year']\n",
    "  \n",
    "  #solo las seleccionadas van a lowercase\n",
    "  df[columns] = df[columns].fillna('').apply(lambda val: val.str.lower())  \n"
   ]
  },
  {
   "cell_type": "markdown",
   "metadata": {},
   "source": [
    "Separamos campo duration en duration_int y duration_type"
   ]
  },
  {
   "cell_type": "code",
   "execution_count": 63,
   "metadata": {},
   "outputs": [],
   "source": [
    "def obtener_valor_tipo(item,posicion):\n",
    "   \n",
    "  if isinstance(item,str):\n",
    "  \n",
    "    if ' ' in item:\n",
    "  \n",
    "      num = item.split()[posicion]            \n",
    "  \n",
    "      return num.strip()\n",
    "\n",
    "  if posicion == 0:\n",
    "    return 0\n",
    "  else:\n",
    "    return ''"
   ]
  },
  {
   "cell_type": "code",
   "execution_count": 81,
   "metadata": {},
   "outputs": [],
   "source": [
    "def separar_duration(df):\n",
    "  \"\"\"\n",
    "  Separa el campo duration en parte entera y tipo de duración\n",
    "\n",
    "  Parameters\n",
    "  ---------\n",
    "  df: object\n",
    "    dataframe con columna duration\n",
    "  \"\"\"\n",
    "\n",
    "  df['duration_int'] = df['duration'].apply(obtener_valor_tipo,args=(0,))\n",
    "\n",
    "  df['duration_int'] = df['duration_int'].astype('float')\n",
    " \n",
    "  df['duration_int'] = df['duration_int'].astype('Int64')\n",
    " \n",
    "  df['duration_type'] = df['duration'].apply(obtener_valor_tipo,args=(1,))\n",
    "  \n",
    "  #hay valores con error sintactico\n",
    "  df['duration_type'].replace('seasons','season', inplace=True)\n",
    "\n",
    "  # eliminamos columna duration que ha sido separada y no es necesaria\n",
    "  df.drop(columns='duration', axis=1, inplace=True, errors='ignore')"
   ]
  },
  {
   "attachments": {},
   "cell_type": "markdown",
   "metadata": {},
   "source": [
    "Agrupamos las funciones en una sola"
   ]
  },
  {
   "cell_type": "code",
   "execution_count": 20,
   "metadata": {},
   "outputs": [],
   "source": [
    "def transformar(prefijo,df):\n",
    "  \"\"\"\n",
    "  Aplica transformaciones al df\n",
    "\n",
    "  Parameters\n",
    "  ---------\n",
    "  df: object\n",
    "    dataframe a transformar\n",
    "  prefijo: str\n",
    "    letra que se añade al inicio de cada valor del campo show_id\n",
    "  \"\"\"\n",
    "\n",
    "  generar_id(prefijo, df)\n",
    "\n",
    "  completar_rating(df)    \n",
    "\n",
    "  formatear_fecha(df)\n",
    "\n",
    "  texto_en_minuscula(df)\n",
    "\n",
    "  separar_duration(df)\n",
    "\n",
    "  # reordenamos las columnas para que id este primer \n",
    "  columns = np.array(df.columns)\n",
    "\n",
    "  columns = [column for column in columns if column != 'id']\n",
    "\n",
    "  df = df[['id']+columns]\n",
    "\n",
    "  return df"
   ]
  },
  {
   "attachments": {},
   "cell_type": "markdown",
   "metadata": {},
   "source": [
    "Transformamos los datasets"
   ]
  },
  {
   "cell_type": "code",
   "execution_count": 121,
   "metadata": {},
   "outputs": [],
   "source": [
    "amazon_df = transformar('a',amazon)"
   ]
  },
  {
   "cell_type": "code",
   "execution_count": 124,
   "metadata": {},
   "outputs": [],
   "source": [
    "disney_df = transformar('d',disney)"
   ]
  },
  {
   "cell_type": "code",
   "execution_count": 25,
   "metadata": {},
   "outputs": [],
   "source": [
    "hulu_df = transformar('h',hulu)"
   ]
  },
  {
   "cell_type": "code",
   "execution_count": 86,
   "metadata": {},
   "outputs": [],
   "source": [
    "netflix_df = transformar('n',netflix)"
   ]
  },
  {
   "attachments": {},
   "cell_type": "markdown",
   "metadata": {},
   "source": [
    "Exportamos las transformaciones"
   ]
  },
  {
   "cell_type": "code",
   "execution_count": 28,
   "metadata": {},
   "outputs": [],
   "source": [
    "amazon_df.to_csv('../transformaciones/amazon.csv',index=False)"
   ]
  },
  {
   "cell_type": "code",
   "execution_count": 29,
   "metadata": {},
   "outputs": [],
   "source": [
    "disney_df.to_csv('../transformaciones/disney.csv',index=False)"
   ]
  },
  {
   "cell_type": "code",
   "execution_count": 30,
   "metadata": {},
   "outputs": [],
   "source": [
    "hulu_df.to_csv('../transformaciones/hulu.csv',index=False)"
   ]
  },
  {
   "cell_type": "code",
   "execution_count": 88,
   "metadata": {},
   "outputs": [],
   "source": [
    "netflix_df.to_csv('../transformaciones/netflix.csv',index=False)"
   ]
  }
 ],
 "metadata": {
  "kernelspec": {
   "display_name": "Python 3.10.6 64-bit",
   "language": "python",
   "name": "python3"
  },
  "language_info": {
   "codemirror_mode": {
    "name": "ipython",
    "version": 3
   },
   "file_extension": ".py",
   "mimetype": "text/x-python",
   "name": "python",
   "nbconvert_exporter": "python",
   "pygments_lexer": "ipython3",
   "version": "3.9.12"
  },
  "orig_nbformat": 4,
  "vscode": {
   "interpreter": {
    "hash": "31f2aee4e71d21fbe5cf8b01ff0e069b9275f58929596ceb00d14d90e3e16cd6"
   }
  }
 },
 "nbformat": 4,
 "nbformat_minor": 2
}
